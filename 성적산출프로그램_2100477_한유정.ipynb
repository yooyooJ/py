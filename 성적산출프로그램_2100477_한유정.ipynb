{
  "nbformat": 4,
  "nbformat_minor": 0,
  "metadata": {
    "colab": {
      "name": "성적산출프로그램 2100477 한유정",
      "provenance": [],
      "toc_visible": true,
      "authorship_tag": "ABX9TyNXMPkBm1j64YtDFxLHkPH0",
      "include_colab_link": true
    },
    "kernelspec": {
      "name": "python3",
      "display_name": "Python 3"
    },
    "language_info": {
      "name": "python"
    }
  },
  "cells": [
    {
      "cell_type": "markdown",
      "metadata": {
        "id": "view-in-github",
        "colab_type": "text"
      },
      "source": [
        "<a href=\"https://colab.research.google.com/github/yooyooJ/py/blob/main/%EC%84%B1%EC%A0%81%EC%82%B0%EC%B6%9C%ED%94%84%EB%A1%9C%EA%B7%B8%EB%9E%A8_2100477_%ED%95%9C%EC%9C%A0%EC%A0%95.ipynb\" target=\"_parent\"><img src=\"https://colab.research.google.com/assets/colab-badge.svg\" alt=\"Open In Colab\"/></a>"
      ]
    },
    {
      "cell_type": "code",
      "metadata": {
        "colab": {
          "base_uri": "https://localhost:8080/"
        },
        "id": "ZY7odrKqUZzo",
        "outputId": "ee5aa34f-8bf5-4803-d39b-9c6ee694dc4b"
      },
      "source": [
        "#성적산출프로그램\n",
        "#점수를 입력하면 그에 맞는 등급 배정\n",
        "\n",
        "score = int(input(\"시험 점수를 입력하시오.\"))\n",
        "\n",
        "if score>=90:\n",
        "  print(\"당신의 성적은 A입니다.\")\n",
        "elif score>=80 and score<90:\n",
        "  print(\"당신의 성적은 B입니다.\")\n",
        "elif score>=70 and score<80:\n",
        "  print(\"당신의 성적은 C입니다.\")\n",
        "elif score>=60 and score<70:\n",
        "  print(\"당신의 성적은 D입니다.\")\n",
        "elif score>=50 and score<60:\n",
        "  print(\"당신의 성적은 E입니다.\")\n",
        "elif score<50:\n",
        "  print(\"당신의 성적은 F입니다.\")"
      ],
      "execution_count": null,
      "outputs": [
        {
          "output_type": "stream",
          "name": "stdout",
          "text": [
            "시험 점수를 입력하시오.50\n",
            "당신의 성적은 E입니다.\n"
          ]
        }
      ]
    }
  ]
}