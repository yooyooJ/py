{
  "nbformat": 4,
  "nbformat_minor": 0,
  "metadata": {
    "colab": {
      "name": "연습문제 11장 1~3.ipynb",
      "provenance": [],
      "authorship_tag": "ABX9TyN5cluWp8ExH0E9l1geN+np",
      "include_colab_link": true
    },
    "kernelspec": {
      "name": "python3",
      "display_name": "Python 3"
    },
    "language_info": {
      "name": "python"
    }
  },
  "cells": [
    {
      "cell_type": "markdown",
      "metadata": {
        "id": "view-in-github",
        "colab_type": "text"
      },
      "source": [
        "<a href=\"https://colab.research.google.com/github/yooyooJ/py/blob/main/%EC%97%B0%EC%8A%B5%EB%AC%B8%EC%A0%9C_11%EC%9E%A5_1~3.ipynb\" target=\"_parent\"><img src=\"https://colab.research.google.com/assets/colab-badge.svg\" alt=\"Open In Colab\"/></a>"
      ]
    },
    {
      "cell_type": "code",
      "execution_count": 8,
      "metadata": {
        "id": "1LU7e9qR93-p"
      },
      "outputs": [],
      "source": [
        "#연습문제 11-1\n",
        "#filename = input(\"파일 이름을 입력하세요: \").strip()\n",
        "#infile = open(filename, \"r\") \n",
        "#count = 0\n",
        "#for line in infile:\n",
        "# for ch in line:\n",
        "#  count += 1\n",
        "#print(\"파일 안에는 총 \", count , \"개의 글자가 있습니다.\")\n",
        "#infile.close()                                          #파일닫기\n",
        "\n",
        "#연습문제 11-2\n",
        "#infilename = input(\"파일 이름을 입력하시오: \").strip()\n",
        "#infile = open(infilename, \"r\")\n",
        "#file_s = infile.read() \n",
        "#removed_s = input(\"삭제할 문자열을 입력하시오: \").strip()\n",
        "#modified_s = file_s.replace(removed_s, \"\")\n",
        "#infile.close() \n",
        "#outfile = open(infilename, \"w\")\n",
        "#print(modified_s, file = outfile, end = \"\") \n",
        "#print(\"변경된 파일이 저장되었습니다.\") \n",
        "#outfile.close()\n",
        "\n",
        "#연습문제 11-3\n",
        "#infile = open(filename, \"r\") \n",
        "#for line in infile:\n",
        "#      ...\n",
        "#def countLine(line, counter):\n",
        "# for ch in line:\n",
        "#  if ch.isalpha():\n",
        "#    if ch in counter:\n",
        "#       counter[ch] = counter[ch] + 1\n",
        "#    else:\n",
        "#       counter[ch] = 1\n",
        "#fname = input(\"입력 파일 이름: \").strip()\n",
        "#infile = open(fname, \"r\") \n",
        "#my_dict = { } \n",
        "#for line in infile:\n",
        "# countLine(line, my_dict)\n",
        "#print(my_dict)\n",
        "#infile.close()"
      ]
    }
  ]
}