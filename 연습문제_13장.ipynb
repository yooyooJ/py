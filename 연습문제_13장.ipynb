{
  "nbformat": 4,
  "nbformat_minor": 0,
  "metadata": {
    "colab": {
      "name": "연습문제 13장.ipynb",
      "provenance": [],
      "authorship_tag": "ABX9TyNwPJy+2mVo/j+zxvsyV/B3",
      "include_colab_link": true
    },
    "kernelspec": {
      "name": "python3",
      "display_name": "Python 3"
    },
    "language_info": {
      "name": "python"
    }
  },
  "cells": [
    {
      "cell_type": "markdown",
      "metadata": {
        "id": "view-in-github",
        "colab_type": "text"
      },
      "source": [
        "<a href=\"https://colab.research.google.com/github/yooyooJ/py/blob/main/%EC%97%B0%EC%8A%B5%EB%AC%B8%EC%A0%9C_13%EC%9E%A5.ipynb\" target=\"_parent\"><img src=\"https://colab.research.google.com/assets/colab-badge.svg\" alt=\"Open In Colab\"/></a>"
      ]
    },
    {
      "cell_type": "code",
      "execution_count": 12,
      "metadata": {
        "colab": {
          "base_uri": "https://localhost:8080/"
        },
        "id": "VcEK5nf4eAQU",
        "outputId": "d8846efb-968c-4b08-a4b5-5dba85462ab0"
      },
      "outputs": [
        {
          "output_type": "stream",
          "name": "stdout",
          "text": [
            "TV의 채널:  11 TV의 음량:  6\n"
          ]
        }
      ],
      "source": [
        "#연습문제 13-1\n",
        "#class Circle:\n",
        "#  def __init__(self, radius):\n",
        "#    self.radius = radius\n",
        "#  def calcPerimeter(self):\n",
        "#    return 2 * 3.141592 * self.radius\n",
        "#  def clacArea(self):\n",
        "#    return 3.141592 * self.radius * self.radius\n",
        "#circle = Circle(100)\n",
        "#print = (\"반지름: \", circle.radius, \"원의 면적: \", circle.calcArea(), \"원의 둘레: \", circle.clacPerimter()  );\n",
        "\n",
        "#연습문제 13-2\n",
        "class TV:\n",
        " def __init__(self):\n",
        "  self.channel = 1\n",
        "  ...\n",
        " def turnOn(self):\n",
        "  ...\n",
        "\n",
        "#연습문제 13-3\n",
        "class TV:\n",
        " def __init__(self):\n",
        "  self.channel = 1\n",
        "  self.volume = 0 \n",
        "  self.on = False \n",
        " def turnOn(self):\n",
        "  self.on = True\n",
        " def turnOff(self):\n",
        "   self.on = False\n",
        " def setVolume(self, volume):\n",
        "  self.volume = volume\n",
        " def setChannel(self, channel):\n",
        "  self.channel = channel\n",
        "tv = TV()\n",
        "tv.turnOn()\n",
        "tv.setChannel(11)\n",
        "tv.setVolume(6)\n",
        "print(\"TV의 채널: \", tv.channel, \"TV의 음량: \", tv.volume);\n",
        "\n",
        "#연습문제 13-3\n",
        "#import turtle\n",
        "#lee = turtle.Pen()\n",
        "#park = turtle.Pen()\n",
        "#lee.shape(\"turtle\")\n",
        "#lee.forward(100)\n",
        "#lee.right(90)\n",
        "#lee.forward(20)\n",
        "#lee.left(90)\n",
        "#lee.forward(100)\n",
        "#park.shape(\"circle\")\n",
        "#park.forward(-100)\n",
        "#park.right(90)\n",
        "#park.forward(-20)\n",
        "#park.left(90)\n",
        "#park.forward(-100)\n",
        "\n",
        "#연습문제 13-4\n",
        "#import turtle\n",
        "#class MyTurtle(turtle.Turtle):\n",
        "# def drawSquare(self):\n",
        "#  for i in range(4):\n",
        "#    self.right(90)\n",
        "#    self.forward(100)\n",
        "#my_turtle = MyTurtle()\n",
        "#my_turtle.forward(100)\n",
        "#my_turtle.drawSquare()\n"
      ]
    }
  ]
}