{
  "nbformat": 4,
  "nbformat_minor": 0,
  "metadata": {
    "colab": {
      "name": "연습문제10장 5~7번.ipynb",
      "provenance": [],
      "authorship_tag": "ABX9TyP5D9z5tgJjGTMvs5mh56C1",
      "include_colab_link": true
    },
    "kernelspec": {
      "name": "python3",
      "display_name": "Python 3"
    },
    "language_info": {
      "name": "python"
    }
  },
  "cells": [
    {
      "cell_type": "markdown",
      "metadata": {
        "id": "view-in-github",
        "colab_type": "text"
      },
      "source": [
        "<a href=\"https://colab.research.google.com/github/yooyooJ/py/blob/main/%EC%97%B0%EC%8A%B5%EB%AC%B8%EC%A0%9C10%EC%9E%A5_5~7%EB%B2%88.ipynb\" target=\"_parent\"><img src=\"https://colab.research.google.com/assets/colab-badge.svg\" alt=\"Open In Colab\"/></a>"
      ]
    },
    {
      "cell_type": "code",
      "execution_count": 1,
      "metadata": {
        "id": "04I1Paj22XHs"
      },
      "outputs": [],
      "source": [
        "#연습문제 10-5\n",
        "#from tkinter import *\n",
        "#fields = '이름', '직업', '국적'\n",
        "#def fetch(entries):\n",
        "# for entry in entries:\n",
        "# field = entry[0]\n",
        "# text = entry[1].get()\n",
        "# print('%s: \"%s\"' % (field, text))\n",
        "#def makeform(root, fields):\n",
        "# entries = []\n",
        "# for field in fields:\n",
        "# row = Frame(root)\n",
        "# lab = Label(row, width=15, text=field)\n",
        "# ent = Entry(row)\n",
        "# row.pack(side=TOP, fill=X)\n",
        "# lab.pack(side=LEFT)\n",
        "# ent.pack(side=RIGHT, expand=YES, fill=X)\n",
        "# entries.append((field, ent))\n",
        "# return entries\n",
        "#root = Tk()\n",
        "#ents = makeform(root, fields)\n",
        "#root.bind('<Return>', (lambda event, e=ents: fetch(e)))\n",
        "#b1 = Button(root, text='보여주기',\n",
        "# command=(lambda e=ents: fetch(e)))\n",
        "#b1.pack(side=LEFT, padx=5, pady=5)\n",
        "#b2 = Button(root, text='종료하기', command=root.quit)\n",
        "#b2.pack(side=LEFT, padx=5, pady=5)\n",
        "#root.mainloop()\n",
        "\n",
        "#연습문제 10-6\n",
        "#from tkinter import *\n",
        "#window = Tk()\n",
        "#label1 = Label(window, text=\"로그인 하세요!!!\", font=(\"Helvetica\", 20))\n",
        "#label1.pack()\n",
        "#label2 = Label(window, text=\"아이디\")\n",
        "#label2.pack()\n",
        "#entry1 = Entry(window)\n",
        "#entry1.pack()\n",
        "#label2 = Label(window, text=\"패스워드\")\n",
        "#label2.pack()\n",
        "#entry2 = Entry(window)\n",
        "#entry2.pack()\n",
        "#button1 = Button(window, text=\"로그인\")\n",
        "#button1.pack()\n",
        "#window.mainloop()\n",
        "\n",
        "#연습문제 10-7\n",
        "#from random import *\n",
        "#from tkinter import *\n",
        "#def user_choice_rock():                         #선택\n",
        "# user_choice = \"rock\"\n",
        "# turn(user_choice)\n",
        "# user_image.configure(image=rock_image)\n",
        "#def user_choice_paper():\n",
        "# user_choice = \"paper\"\n",
        "# turn(user_choice)\n",
        "# user_image.configure(image=paper_image)\n",
        "#def user_choice_scissors():\n",
        "# user_choice = \"scissors\"\n",
        "# turn(user_choice)\n",
        "# user_image.configure(image=scissors_image)\n",
        "#def turn(user_choice):                           #게임\n",
        "# oppo = ['rock', 'paper', 'scissors']\n",
        "# oppo_choice=oppo[randint(0,2)]\n",
        "# if(oppo_choice=='rock'):\n",
        "#  oppo_image.configure(image=rock_image)\n",
        "#  if(user_choice=='paper'):\n",
        "#    turn_result.configure(text=\"사용자 승!\", fg=\"green\")\n",
        "#    compare.configure(text=\">>>>>\")\n",
        "#  elif(user_choice=='scissors'):\n",
        "#    turn_result.configure(text=\"컴퓨터 승!\", fg=\"red\")\n",
        "#    compare.configure(text=\"<<<<<\")\n",
        "#  else:\n",
        "#    turn_result.configure(text=\"무승부\", fg=\"gray\")\n",
        "#    compare.configure(text=\"=====\")\n",
        "# elif(oppo_choice=='paper'):\n",
        "#    oppo_image.configure(image=paper_image)\n",
        "#    if(user_choice=='scissors'):\n",
        "#      turn_result.configure(text=\"사용자 승!\", fg=\"green\")\n",
        "#      compare.configure(text=\">>>>>\")\n",
        "#    elif(user_choice=='rock'):\n",
        "#      turn_result.configure(text=\"컴퓨터 승!\", fg=\"red\")\n",
        "#      compare.configure(text=\"<<<<<\")\n",
        "#    else:\n",
        "#      turn_result.configure(text=\"무승부\", fg=\"gray\")\n"
      ]
    }
  ]
}